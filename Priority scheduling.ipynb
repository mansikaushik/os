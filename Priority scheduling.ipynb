{
 "cells": [
  {
   "cell_type": "code",
   "execution_count": 1,
   "metadata": {},
   "outputs": [
    {
     "name": "stdout",
     "output_type": "stream",
     "text": [
      "Order in which processes gets executed\n",
      "2 3 1 \n",
      "Processes    Burst Time    Waiting Time    Turn-Around Time\n",
      "  2 \t\t 15 \t\t 0 \t\t 15\n",
      "  3 \t\t 10 \t\t 15 \t\t 25\n",
      "  1 \t\t 5 \t\t 25 \t\t 30\n",
      "\n",
      "Average waiting time = 13.33333 \n",
      "Average turn around time =  23.333333333333332\n"
     ]
    }
   ],
   "source": [
    "# Function to find the waiting time or all processes  \n",
    "def findWaitingTime(processes, n, wt):  \n",
    "    wt[0] = 0\n",
    "  \n",
    "    # calculating waiting time  \n",
    "    for i in range(1, n):  \n",
    "        wt[i] = processes[i - 1][1] + wt[i - 1]  \n",
    "  \n",
    "# Function to calculate turn around time  \n",
    "def findTurnAroundTime(processes, n, wt, tat):  \n",
    "      \n",
    "    # Calculating turnaround time by \n",
    "    # adding bt[i] + wt[i]  \n",
    "    for i in range(n): \n",
    "        tat[i] = processes[i][1] + wt[i]  \n",
    "  \n",
    "# Function to calculate average waiting and turn-around times.  \n",
    "def findavgTime(processes, n):  \n",
    "    wt = [0] * n \n",
    "    tat = [0] * n  \n",
    "  \n",
    "    # Function to find waiting time  \n",
    "    # of all processes  \n",
    "    findWaitingTime(processes, n, wt)  \n",
    "  \n",
    "    # Function to find turn around time \n",
    "    # for all processes  \n",
    "    findTurnAroundTime(processes, n, wt, tat)  \n",
    "  \n",
    "    # Display processes along with all details  \n",
    "    print(\"\\nProcesses    Burst Time    Waiting\",  \n",
    "          \"Time    Turn-Around Time\") \n",
    "    total_wt = 0\n",
    "    total_tat = 0\n",
    "    for i in range(n): \n",
    "  \n",
    "        total_wt = total_wt + wt[i]  \n",
    "        total_tat = total_tat + tat[i]  \n",
    "        print(\" \", processes[i][0], \"\\t\\t\",  \n",
    "                   processes[i][1], \"\\t\\t\",  \n",
    "                   wt[i], \"\\t\\t\", tat[i]) \n",
    "  \n",
    "    print(\"\\nAverage waiting time = %.5f \"%(total_wt /n)) \n",
    "    print(\"Average turn around time = \", total_tat / n)  \n",
    "  \n",
    "def priorityScheduling(proc, n): \n",
    "      \n",
    "    # Sort processes by priority  \n",
    "    proc = sorted(proc, key = lambda proc:proc[2],  \n",
    "                                  reverse = True);  \n",
    "  \n",
    "    print(\"Order in which processes gets executed\") \n",
    "    for i in proc: \n",
    "        print(i[0], end = \" \") \n",
    "    findavgTime(proc, n)  \n",
    "      \n",
    "# Driver code  \n",
    "if __name__ ==\"__main__\": \n",
    "      \n",
    "    # Process id's  \n",
    "    proc = [[1, 5, 2],  \n",
    "            [2, 15, 8],  \n",
    "            [3, 10, 6]] \n",
    "    n = 3\n",
    "    priorityScheduling(proc, n)"
   ]
  },
  {
   "cell_type": "code",
   "execution_count": null,
   "metadata": {},
   "outputs": [],
   "source": []
  }
 ],
 "metadata": {
  "kernelspec": {
   "display_name": "Python 3",
   "language": "python",
   "name": "python3"
  },
  "language_info": {
   "codemirror_mode": {
    "name": "ipython",
    "version": 3
   },
   "file_extension": ".py",
   "mimetype": "text/x-python",
   "name": "python",
   "nbconvert_exporter": "python",
   "pygments_lexer": "ipython3",
   "version": "3.7.3"
  }
 },
 "nbformat": 4,
 "nbformat_minor": 2
}
